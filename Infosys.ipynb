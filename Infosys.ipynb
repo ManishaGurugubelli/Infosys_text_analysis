{
  "nbformat": 4,
  "nbformat_minor": 0,
  "metadata": {
    "colab": {
      "provenance": [],
      "mount_file_id": "1ymnFDu9Dh_s3w7AFuLZcD6-9IPBZQ6Vi",
      "authorship_tag": "ABX9TyPUXSWbQFQ3IyXSeaOz6goS",
      "include_colab_link": true
    },
    "kernelspec": {
      "name": "python3",
      "display_name": "Python 3"
    },
    "language_info": {
      "name": "python"
    }
  },
  "cells": [
    {
      "cell_type": "markdown",
      "metadata": {
        "id": "view-in-github",
        "colab_type": "text"
      },
      "source": [
        "<a href=\"https://colab.research.google.com/github/ManishaGurugubelli/Infosys_text_analysis/blob/main/Infosys.ipynb\" target=\"_parent\"><img src=\"https://colab.research.google.com/assets/colab-badge.svg\" alt=\"Open In Colab\"/></a>"
      ]
    },
    {
      "cell_type": "code",
      "source": [
        "# ---AUTHENTICATION METHOD ---\n",
        "\n",
        "# Install the Kaggle package\n",
        "!pip install kaggle --upgrade\n",
        "\n",
        "# Import Colab's file uploader utility\n",
        "from google.colab import files\n",
        "print(\"Please upload your kaggle.json file in the box that appears below.\")\n",
        "\n",
        "# This command opens the upload dialog box\n",
        "uploaded = files.upload()\n",
        "\n",
        "# Set up the credentials\n",
        "!mkdir -p ~/.kaggle\n",
        "!mv kaggle.json ~/.kaggle/\n",
        "!chmod 600 ~/.kaggle/kaggle.json\n",
        "\n",
        "print(\"Kaggle setup complete. Ready to download data.\")"
      ],
      "metadata": {
        "colab": {
          "base_uri": "https://localhost:8080/",
          "height": 368
        },
        "id": "CwyvENDMUqM4",
        "outputId": "a3882422-44e4-4258-8702-2d1a34b96f7b"
      },
      "execution_count": null,
      "outputs": [
        {
          "output_type": "stream",
          "name": "stdout",
          "text": [
            "Requirement already satisfied: kaggle in /usr/local/lib/python3.12/dist-packages (1.7.4.5)\n",
            "Requirement already satisfied: bleach in /usr/local/lib/python3.12/dist-packages (from kaggle) (6.2.0)\n",
            "Requirement already satisfied: certifi>=14.05.14 in /usr/local/lib/python3.12/dist-packages (from kaggle) (2025.8.3)\n",
            "Requirement already satisfied: charset-normalizer in /usr/local/lib/python3.12/dist-packages (from kaggle) (3.4.3)\n",
            "Requirement already satisfied: idna in /usr/local/lib/python3.12/dist-packages (from kaggle) (3.10)\n",
            "Requirement already satisfied: protobuf in /usr/local/lib/python3.12/dist-packages (from kaggle) (5.29.5)\n",
            "Requirement already satisfied: python-dateutil>=2.5.3 in /usr/local/lib/python3.12/dist-packages (from kaggle) (2.9.0.post0)\n",
            "Requirement already satisfied: python-slugify in /usr/local/lib/python3.12/dist-packages (from kaggle) (8.0.4)\n",
            "Requirement already satisfied: requests in /usr/local/lib/python3.12/dist-packages (from kaggle) (2.32.4)\n",
            "Requirement already satisfied: setuptools>=21.0.0 in /usr/local/lib/python3.12/dist-packages (from kaggle) (75.2.0)\n",
            "Requirement already satisfied: six>=1.10 in /usr/local/lib/python3.12/dist-packages (from kaggle) (1.17.0)\n",
            "Requirement already satisfied: text-unidecode in /usr/local/lib/python3.12/dist-packages (from kaggle) (1.3)\n",
            "Requirement already satisfied: tqdm in /usr/local/lib/python3.12/dist-packages (from kaggle) (4.67.1)\n",
            "Requirement already satisfied: urllib3>=1.15.1 in /usr/local/lib/python3.12/dist-packages (from kaggle) (2.5.0)\n",
            "Requirement already satisfied: webencodings in /usr/local/lib/python3.12/dist-packages (from kaggle) (0.5.1)\n",
            "Please upload your kaggle.json file in the box that appears below.\n"
          ]
        },
        {
          "output_type": "display_data",
          "data": {
            "text/plain": [
              "<IPython.core.display.HTML object>"
            ],
            "text/html": [
              "\n",
              "     <input type=\"file\" id=\"files-ea637d25-b3d1-4be7-9c0b-bc001b7d7bdf\" name=\"files[]\" multiple disabled\n",
              "        style=\"border:none\" />\n",
              "     <output id=\"result-ea637d25-b3d1-4be7-9c0b-bc001b7d7bdf\">\n",
              "      Upload widget is only available when the cell has been executed in the\n",
              "      current browser session. Please rerun this cell to enable.\n",
              "      </output>\n",
              "      <script>// Copyright 2017 Google LLC\n",
              "//\n",
              "// Licensed under the Apache License, Version 2.0 (the \"License\");\n",
              "// you may not use this file except in compliance with the License.\n",
              "// You may obtain a copy of the License at\n",
              "//\n",
              "//      http://www.apache.org/licenses/LICENSE-2.0\n",
              "//\n",
              "// Unless required by applicable law or agreed to in writing, software\n",
              "// distributed under the License is distributed on an \"AS IS\" BASIS,\n",
              "// WITHOUT WARRANTIES OR CONDITIONS OF ANY KIND, either express or implied.\n",
              "// See the License for the specific language governing permissions and\n",
              "// limitations under the License.\n",
              "\n",
              "/**\n",
              " * @fileoverview Helpers for google.colab Python module.\n",
              " */\n",
              "(function(scope) {\n",
              "function span(text, styleAttributes = {}) {\n",
              "  const element = document.createElement('span');\n",
              "  element.textContent = text;\n",
              "  for (const key of Object.keys(styleAttributes)) {\n",
              "    element.style[key] = styleAttributes[key];\n",
              "  }\n",
              "  return element;\n",
              "}\n",
              "\n",
              "// Max number of bytes which will be uploaded at a time.\n",
              "const MAX_PAYLOAD_SIZE = 100 * 1024;\n",
              "\n",
              "function _uploadFiles(inputId, outputId) {\n",
              "  const steps = uploadFilesStep(inputId, outputId);\n",
              "  const outputElement = document.getElementById(outputId);\n",
              "  // Cache steps on the outputElement to make it available for the next call\n",
              "  // to uploadFilesContinue from Python.\n",
              "  outputElement.steps = steps;\n",
              "\n",
              "  return _uploadFilesContinue(outputId);\n",
              "}\n",
              "\n",
              "// This is roughly an async generator (not supported in the browser yet),\n",
              "// where there are multiple asynchronous steps and the Python side is going\n",
              "// to poll for completion of each step.\n",
              "// This uses a Promise to block the python side on completion of each step,\n",
              "// then passes the result of the previous step as the input to the next step.\n",
              "function _uploadFilesContinue(outputId) {\n",
              "  const outputElement = document.getElementById(outputId);\n",
              "  const steps = outputElement.steps;\n",
              "\n",
              "  const next = steps.next(outputElement.lastPromiseValue);\n",
              "  return Promise.resolve(next.value.promise).then((value) => {\n",
              "    // Cache the last promise value to make it available to the next\n",
              "    // step of the generator.\n",
              "    outputElement.lastPromiseValue = value;\n",
              "    return next.value.response;\n",
              "  });\n",
              "}\n",
              "\n",
              "/**\n",
              " * Generator function which is called between each async step of the upload\n",
              " * process.\n",
              " * @param {string} inputId Element ID of the input file picker element.\n",
              " * @param {string} outputId Element ID of the output display.\n",
              " * @return {!Iterable<!Object>} Iterable of next steps.\n",
              " */\n",
              "function* uploadFilesStep(inputId, outputId) {\n",
              "  const inputElement = document.getElementById(inputId);\n",
              "  inputElement.disabled = false;\n",
              "\n",
              "  const outputElement = document.getElementById(outputId);\n",
              "  outputElement.innerHTML = '';\n",
              "\n",
              "  const pickedPromise = new Promise((resolve) => {\n",
              "    inputElement.addEventListener('change', (e) => {\n",
              "      resolve(e.target.files);\n",
              "    });\n",
              "  });\n",
              "\n",
              "  const cancel = document.createElement('button');\n",
              "  inputElement.parentElement.appendChild(cancel);\n",
              "  cancel.textContent = 'Cancel upload';\n",
              "  const cancelPromise = new Promise((resolve) => {\n",
              "    cancel.onclick = () => {\n",
              "      resolve(null);\n",
              "    };\n",
              "  });\n",
              "\n",
              "  // Wait for the user to pick the files.\n",
              "  const files = yield {\n",
              "    promise: Promise.race([pickedPromise, cancelPromise]),\n",
              "    response: {\n",
              "      action: 'starting',\n",
              "    }\n",
              "  };\n",
              "\n",
              "  cancel.remove();\n",
              "\n",
              "  // Disable the input element since further picks are not allowed.\n",
              "  inputElement.disabled = true;\n",
              "\n",
              "  if (!files) {\n",
              "    return {\n",
              "      response: {\n",
              "        action: 'complete',\n",
              "      }\n",
              "    };\n",
              "  }\n",
              "\n",
              "  for (const file of files) {\n",
              "    const li = document.createElement('li');\n",
              "    li.append(span(file.name, {fontWeight: 'bold'}));\n",
              "    li.append(span(\n",
              "        `(${file.type || 'n/a'}) - ${file.size} bytes, ` +\n",
              "        `last modified: ${\n",
              "            file.lastModifiedDate ? file.lastModifiedDate.toLocaleDateString() :\n",
              "                                    'n/a'} - `));\n",
              "    const percent = span('0% done');\n",
              "    li.appendChild(percent);\n",
              "\n",
              "    outputElement.appendChild(li);\n",
              "\n",
              "    const fileDataPromise = new Promise((resolve) => {\n",
              "      const reader = new FileReader();\n",
              "      reader.onload = (e) => {\n",
              "        resolve(e.target.result);\n",
              "      };\n",
              "      reader.readAsArrayBuffer(file);\n",
              "    });\n",
              "    // Wait for the data to be ready.\n",
              "    let fileData = yield {\n",
              "      promise: fileDataPromise,\n",
              "      response: {\n",
              "        action: 'continue',\n",
              "      }\n",
              "    };\n",
              "\n",
              "    // Use a chunked sending to avoid message size limits. See b/62115660.\n",
              "    let position = 0;\n",
              "    do {\n",
              "      const length = Math.min(fileData.byteLength - position, MAX_PAYLOAD_SIZE);\n",
              "      const chunk = new Uint8Array(fileData, position, length);\n",
              "      position += length;\n",
              "\n",
              "      const base64 = btoa(String.fromCharCode.apply(null, chunk));\n",
              "      yield {\n",
              "        response: {\n",
              "          action: 'append',\n",
              "          file: file.name,\n",
              "          data: base64,\n",
              "        },\n",
              "      };\n",
              "\n",
              "      let percentDone = fileData.byteLength === 0 ?\n",
              "          100 :\n",
              "          Math.round((position / fileData.byteLength) * 100);\n",
              "      percent.textContent = `${percentDone}% done`;\n",
              "\n",
              "    } while (position < fileData.byteLength);\n",
              "  }\n",
              "\n",
              "  // All done.\n",
              "  yield {\n",
              "    response: {\n",
              "      action: 'complete',\n",
              "    }\n",
              "  };\n",
              "}\n",
              "\n",
              "scope.google = scope.google || {};\n",
              "scope.google.colab = scope.google.colab || {};\n",
              "scope.google.colab._files = {\n",
              "  _uploadFiles,\n",
              "  _uploadFilesContinue,\n",
              "};\n",
              "})(self);\n",
              "</script> "
            ]
          },
          "metadata": {}
        },
        {
          "output_type": "stream",
          "name": "stdout",
          "text": [
            "Saving kaggle.json to kaggle.json\n",
            "Kaggle setup complete. Ready to download data.\n"
          ]
        }
      ]
    },
    {
      "cell_type": "code",
      "source": [
        "# --- DOWNLOAD THE RAW DATA ---\n",
        "!kaggle datasets download -d snap/amazon-fine-food-reviews\n",
        "!unzip amazon-fine-food-reviews.zip\n",
        "print(\"Data downloaded and extracted. Reviews.csv is ready.\")"
      ],
      "metadata": {
        "colab": {
          "base_uri": "https://localhost:8080/"
        },
        "id": "e-Mnmv5qU5qW",
        "outputId": "51cb9cae-af6d-48fa-bebc-7b46c68aaed8"
      },
      "execution_count": null,
      "outputs": [
        {
          "output_type": "stream",
          "name": "stdout",
          "text": [
            "Dataset URL: https://www.kaggle.com/datasets/snap/amazon-fine-food-reviews\n",
            "License(s): CC0-1.0\n",
            "amazon-fine-food-reviews.zip: Skipping, found more recently modified local copy (use --force to force download)\n",
            "Archive:  amazon-fine-food-reviews.zip\n",
            "replace Reviews.csv? [y]es, [n]o, [A]ll, [N]one, [r]ename: y\n",
            "  inflating: Reviews.csv             \n",
            "replace database.sqlite? [y]es, [n]o, [A]ll, [N]one, [r]ename: y\n",
            "  inflating: database.sqlite         \n",
            "replace hashes.txt? [y]es, [n]o, [A]ll, [N]one, [r]ename: y\n",
            "  inflating: hashes.txt              \n",
            "Data downloaded and extracted. Reviews.csv is ready.\n"
          ]
        }
      ]
    },
    {
      "cell_type": "code",
      "source": [
        "# BALANCED DATASET CREATION\n",
        "\n",
        "import pandas as pd\n",
        "import numpy as np\n",
        "from sklearn.model_selection import train_test_split\n",
        "from sklearn.utils import resample\n",
        "\n",
        "print(\"Starting Data Acquisition and Balanced Resampling...\")\n",
        "\n",
        "df_raw = pd.read_csv('Reviews.csv')\n",
        "\n",
        "df_clean = df_raw.dropna(subset=['Text', 'Score'])\n",
        "df_clean.drop_duplicates(subset=['UserId', 'ProfileName', 'Time', 'Text'], inplace=True)\n",
        "\n",
        "min_size = df_clean[df_clean['Score'] == 2].shape[0]\n",
        "\n",
        "print(f\"Minimum class size found (Score 2): {min_size}\")\n",
        "\n",
        "df_balanced_list = []\n",
        "for score in sorted(df_clean['Score'].unique()):\n",
        "    df_score = df_clean[df_clean['Score'] == score]\n",
        "\n",
        "    df_score_balanced = resample(\n",
        "        df_score,\n",
        "        replace=False,\n",
        "        n_samples=min_size,\n",
        "        random_state=42\n",
        "    )\n",
        "    df_balanced_list.append(df_score_balanced)\n",
        "\n",
        "df_sample = pd.concat(df_balanced_list)\n",
        "\n",
        "df_sample = df_sample.sample(frac=1, random_state=42).reset_index(drop=True)\n",
        "\n",
        "print(f\"\\nNew Balanced Dataset Shape: {df_sample.shape}\")\n",
        "print(df_sample['Score'].value_counts().sort_index())\n",
        "print(\"\\nBalanced dataset created successfully!\")"
      ],
      "metadata": {
        "colab": {
          "base_uri": "https://localhost:8080/"
        },
        "id": "apQeKEAeSuvs",
        "outputId": "72110e64-1158-454f-e467-47c8b8648ea1"
      },
      "execution_count": null,
      "outputs": [
        {
          "output_type": "stream",
          "name": "stdout",
          "text": [
            "Starting Data Acquisition and Balanced Resampling...\n",
            "Minimum class size found (Score 2): 20802\n",
            "\n",
            "New Balanced Dataset Shape: (104010, 10)\n",
            "Score\n",
            "1    20802\n",
            "2    20802\n",
            "3    20802\n",
            "4    20802\n",
            "5    20802\n",
            "Name: count, dtype: int64\n",
            "\n",
            "Balanced dataset created successfully!\n"
          ]
        }
      ]
    },
    {
      "cell_type": "code",
      "source": [
        "# TEXT PREPROCESSING AND CLEANING (WITH SAMPLE OUTPUT)\n",
        "\n",
        "import re\n",
        "import nltk\n",
        "from nltk.corpus import stopwords\n",
        "from nltk.stem import WordNetLemmatizer\n",
        "\n",
        "# Download necessary NLTK components if not already done\n",
        "try:\n",
        "    stopwords.words('english')\n",
        "except LookupError:\n",
        "    nltk.download('stopwords')\n",
        "try:\n",
        "    WordNetLemmatizer().lemmatize('test')\n",
        "except LookupError:\n",
        "    nltk.download('wordnet')\n",
        "\n",
        "stop_words = set(stopwords.words('english'))\n",
        "lemmatizer = WordNetLemmatizer()\n",
        "\n",
        "def clean_text(text):\n",
        "    # Remove HTML tags (e.g., <br />)\n",
        "    text = re.sub(r'<.*?>', '', text)\n",
        "    # Remove punctuation, numbers, and special characters, and convert to lowercase\n",
        "    text = re.sub(r'[^a-zA-Z\\s]', '', text).lower()\n",
        "    # Tokenize, remove stop words, and lemmatize\n",
        "    words = text.split()\n",
        "    words = [lemmatizer.lemmatize(w) for w in words if w not in stop_words and len(w) > 2]\n",
        "    return ' '.join(words)\n",
        "\n",
        "print(\"\\nStarting Text Preprocessing...\")\n",
        "df_sample['CleanedText'] = df_sample['Text'].apply(clean_text)\n",
        "print(\"Preprocessing complete. 'CleanedText' column created.\")\n",
        "\n",
        "# --- SAMPLE OUTPUT ---\n",
        "print(\"\\n--- Preprocessing Sample (5 Rows) ---\")\n",
        "print(df_sample[['Score', 'Text', 'CleanedText']].sample(5, random_state=1).to_markdown(index=False))"
      ],
      "metadata": {
        "colab": {
          "base_uri": "https://localhost:8080/"
        },
        "id": "exQf5a5IUTUu",
        "outputId": "2aa35464-4e46-4155-bd08-f85b087a6e67"
      },
      "execution_count": null,
      "outputs": [
        {
          "output_type": "stream",
          "name": "stdout",
          "text": [
            "\n",
            "Starting Text Preprocessing...\n",
            "Preprocessing complete. 'CleanedText' column created.\n",
            "\n",
            "--- Preprocessing Sample (5 Rows) ---\n",
            "|   Score | Text                                                                                                                                                                                                                                                                                                                                                                                                                                                                                                                                                         | CleanedText                                                                                                                                                                                                                                                                                                                           |\n",
            "|--------:|:-------------------------------------------------------------------------------------------------------------------------------------------------------------------------------------------------------------------------------------------------------------------------------------------------------------------------------------------------------------------------------------------------------------------------------------------------------------------------------------------------------------------------------------------------------------|:--------------------------------------------------------------------------------------------------------------------------------------------------------------------------------------------------------------------------------------------------------------------------------------------------------------------------------------|\n",
            "|       1 | I bought Twinings Earl Grey Tea, 12 count  K-Cups. Always liked that brand. Nice smooth tea. Somehow, it's lost it's flavor in the K-cup. Kind of has a lemony or some altered taste. I wouldn't buy this particular one again.                                                                                                                                                                                                                                                                                                                              | bought twinings earl grey tea count kcups always liked brand nice smooth tea somehow lost flavor kcup kind lemony altered taste wouldnt buy particular one                                                                                                                                                                            |\n",
            "|       3 | I bought this rice on the recommendation of the recipe author, but I didn't think it tasted much different from any other type of rice.                                                                                                                                                                                                                                                                                                                                                                                                                      | bought rice recommendation recipe author didnt think tasted much different type rice                                                                                                                                                                                                                                                  |\n",
            "|       2 | So it arrived missing some items, A carboy bung, and the thermometer. The Hydrometer test tube arrived broken and the seller said they would replace it and send the bung. The bung arrived, but no new test tube. Also this order was so big I missed the thermometer on the inventory and by that time i thought it too late to ask for it. I would not recommend this beer making kit. It is just to easy to not get or miss an inventory of the items.<br />The seller I am neutral on. Yes they sent the bung but who cares? I wanted the test tube to. | arrived missing item carboy bung thermometer hydrometer test tube arrived broken seller said would replace send bung bung arrived new test tube also order big missed thermometer inventory time thought late ask would recommend beer making kit easy get miss inventory itemsthe seller neutral yes sent bung care wanted test tube |\n",
            "|       1 | I cancelled my subscription to this product because the box size has shrunk a lot but the price hasn't.  Not worth it for this family.                                                                                                                                                                                                                                                                                                                                                                                                                       | cancelled subscription product box size shrunk lot price hasnt worth family                                                                                                                                                                                                                                                           |\n",
            "|       2 | Delivery was timely, as stated but the packaging was just a zip lock bag so I'm really glad this wasn't a gift!! I thought this would be a good snack because I love green beans but I didn't care for them. There was a slight sweetness (maybe sugar) to them. Someone might like them but I didn't:(                                                                                                                                                                                                                                                      | delivery timely stated packaging zip lock bag really glad wasnt gift thought would good snack love green bean didnt care slight sweetness maybe sugar someone might like didnt                                                                                                                                                        |\n"
          ]
        }
      ]
    },
    {
      "cell_type": "code",
      "source": [
        "# FEATURE EXTRACTION AND TOPIC MODELING (NMF)\n",
        "\n",
        "from sklearn.feature_extraction.text import TfidfVectorizer\n",
        "from sklearn.decomposition import NMF\n",
        "\n",
        "N_TOPICS = 5\n",
        "print(\"\\nStarting Feature Extraction and NMF Topic Modeling...\")\n",
        "\n",
        "# Feature Extraction (TF-IDF)\n",
        "tfidf_vectorizer = TfidfVectorizer(max_features=5000)\n",
        "X_tfidf = tfidf_vectorizer.fit_transform(df_sample['CleanedText'])\n",
        "tfidf_feature_names = tfidf_vectorizer.get_feature_names_out()\n",
        "\n",
        "print(f\"TF-IDF Matrix Shape: {X_tfidf.shape}\")\n",
        "\n",
        "# Topic Modeling (NMF)\n",
        "nmf_model = NMF(n_components=N_TOPICS, random_state=42, max_iter=300, solver='mu')\n",
        "nmf_model.fit(X_tfidf)\n",
        "nmf_W = nmf_model.transform(X_tfidf)\n",
        "\n",
        "# Function to display topics\n",
        "def display_topics(model, feature_names, n_top_words=10):\n",
        "    topic_keywords = {}\n",
        "    for topic_idx, topic in enumerate(model.components_):\n",
        "        top_words_idx = topic.argsort()[:-n_top_words - 1:-1]\n",
        "        top_words = [feature_names[i] for i in top_words_idx]\n",
        "        topic_name = f\"Topic {topic_idx + 1}: {' | '.join(top_words[:3])}\"\n",
        "        topic_keywords[topic_name] = top_words\n",
        "        print(f\"{topic_name}: {' | '.join(top_words)}\")\n",
        "    return topic_keywords\n",
        "\n",
        "print(\"\\n--- NMF Topics ---\")\n",
        "topic_keywords_dict = display_topics(nmf_model, tfidf_feature_names)\n",
        "print(\"Topic Modeling Complete.\")"
      ],
      "metadata": {
        "colab": {
          "base_uri": "https://localhost:8080/"
        },
        "id": "1t4Si7EBV4vg",
        "outputId": "395cb5fc-ea77-4dbc-abee-f522f7b37507"
      },
      "execution_count": null,
      "outputs": [
        {
          "output_type": "stream",
          "name": "stdout",
          "text": [
            "\n",
            "Starting Feature Extraction and NMF Topic Modeling...\n",
            "TF-IDF Matrix Shape: (104010, 5000)\n",
            "\n",
            "--- NMF Topics ---\n",
            "Topic 1: taste | like | flavor: taste | like | flavor | good | chocolate | really | one | dont | would | sugar\n",
            "Topic 2: coffee | cup | roast: coffee | cup | roast | bean | strong | pod | flavor | blend | starbucks | drink\n",
            "Topic 3: tea | green | bag: tea | green | bag | flavor | drink | cup | leaf | black | iced | taste\n",
            "Topic 4: dog | food | treat: dog | food | treat | cat | love | eat | chew | one | ingredient | chicken\n",
            "Topic 5: product | price | amazon: product | price | amazon | box | store | order | bag | buy | time | great\n",
            "Topic Modeling Complete.\n"
          ]
        }
      ]
    },
    {
      "cell_type": "code",
      "source": [
        "# ---  CONVERT TO BINARY TARGET VARIABLE ---\n",
        "\n",
        "# Assumes df_sample is available from previous steps.\n",
        "print(\"Converting 5-class Scores to Binary Sentiment (Positive=1, Negative/Neutral=0)...\")\n",
        "\n",
        "# Define the function to map scores to binary sentiment\n",
        "def map_sentiment(score):\n",
        "    # 4 and 5 stars are Positive\n",
        "    if score >= 4:\n",
        "        return 1\n",
        "    # 1, 2, and 3 stars are Negative/Neutral\n",
        "    else:\n",
        "        return 0\n",
        "\n",
        "df_sample['Sentiment'] = df_sample['Score'].apply(map_sentiment)\n",
        "\n",
        "# Check the new binary distribution\n",
        "print(\"\\nNew Binary Target Distribution:\")\n",
        "print(df_sample['Sentiment'].value_counts())"
      ],
      "metadata": {
        "colab": {
          "base_uri": "https://localhost:8080/"
        },
        "id": "FD6zgviq0KT8",
        "outputId": "e1eb2268-a5e1-4310-fbd6-0230f252de11"
      },
      "execution_count": null,
      "outputs": [
        {
          "output_type": "stream",
          "name": "stdout",
          "text": [
            "Converting 5-class Scores to Binary Sentiment (Positive=1, Negative/Neutral=0)...\n",
            "\n",
            "New Binary Target Distribution:\n",
            "Sentiment\n",
            "0    62406\n",
            "1    41604\n",
            "Name: count, dtype: int64\n"
          ]
        }
      ]
    },
    {
      "cell_type": "code",
      "source": [
        "# ---  TRAIN AND EVALUATE BINARY CLASSIFICATION MODEL ---\n",
        "\n",
        "import numpy as np\n",
        "from sklearn.model_selection import train_test_split\n",
        "from sklearn.linear_model import LogisticRegression\n",
        "from sklearn.metrics import accuracy_score, classification_report\n",
        "\n",
        "print(\"\\nStarting Binary Logistic Regression Model Training...\")\n",
        "\n",
        "# Use the new binary target variable\n",
        "y_binary = df_sample['Sentiment']\n",
        "\n",
        "# X_tfidf is already balanced and ready.\n",
        "# We split the data using the new binary target for stratification.\n",
        "# Stratify ensures the 60/40 balance is maintained in both train and test sets.\n",
        "X_train_bin, X_test_bin, y_train_bin, y_test_bin = train_test_split(\n",
        "    X_tfidf, y_binary, test_size=0.3, random_state=42, stratify=y_binary\n",
        ")\n",
        "\n",
        "# Train Logistic Regression Model\n",
        "model_binary = LogisticRegression(solver='liblinear', random_state=42, max_iter=500)\n",
        "model_binary.fit(X_train_bin, y_train_bin)\n",
        "\n",
        "# Predict and Evaluate\n",
        "y_train_pred_bin = model_binary.predict(X_train_bin)\n",
        "y_test_pred_bin = model_binary.predict(X_test_bin)\n",
        "\n",
        "print(\"\\n--- Final Binary Classification Evaluation ---\")\n",
        "\n",
        "# Calculate Accuracy and Error Metrics\n",
        "train_accuracy_bin = accuracy_score(y_train_bin, y_train_pred_bin)\n",
        "test_accuracy_bin = accuracy_score(y_test_bin, y_test_pred_bin)\n",
        "\n",
        "print(f\"Training Accuracy (Memorization): {train_accuracy_bin*100:.2f}%\")\n",
        "print(f\"Test Accuracy (Final Performance): {test_accuracy_bin*100:.2f}%\")\n",
        "\n",
        "print(\"\\nDetailed Binary Classification Report:\")\n",
        "# 0 is Negative/Neutral, 1 is Positive\n",
        "print(classification_report(y_test_bin, y_test_pred_bin, target_names=['Negative/Neutral (0)', 'Positive (1)']))"
      ],
      "metadata": {
        "colab": {
          "base_uri": "https://localhost:8080/"
        },
        "id": "v4MV1XS80dPd",
        "outputId": "fa04c0cf-928d-4679-f39c-87cdd778b4ca"
      },
      "execution_count": null,
      "outputs": [
        {
          "output_type": "stream",
          "name": "stdout",
          "text": [
            "\n",
            "Starting Binary Logistic Regression Model Training...\n",
            "\n",
            "--- Final Binary Classification Evaluation ---\n",
            "Training Accuracy (Memorization): 83.96%\n",
            "Test Accuracy (Final Performance): 81.78%\n",
            "\n",
            "Detailed Binary Classification Report:\n",
            "                      precision    recall  f1-score   support\n",
            "\n",
            "Negative/Neutral (0)       0.83      0.88      0.85     18722\n",
            "        Positive (1)       0.80      0.73      0.76     12481\n",
            "\n",
            "            accuracy                           0.82     31203\n",
            "           macro avg       0.81      0.80      0.81     31203\n",
            "        weighted avg       0.82      0.82      0.82     31203\n",
            "\n"
          ]
        }
      ]
    },
    {
      "cell_type": "code",
      "source": [
        "!pip install gensim"
      ],
      "metadata": {
        "colab": {
          "base_uri": "https://localhost:8080/"
        },
        "id": "gZ9pwer4hR8o",
        "outputId": "af7bc116-d8a7-4f89-b0ac-430c89d22cd9"
      },
      "execution_count": null,
      "outputs": [
        {
          "output_type": "stream",
          "name": "stdout",
          "text": [
            "Requirement already satisfied: gensim in /usr/local/lib/python3.12/dist-packages (4.3.3)\n",
            "Requirement already satisfied: numpy<2.0,>=1.18.5 in /usr/local/lib/python3.12/dist-packages (from gensim) (1.26.4)\n",
            "Requirement already satisfied: scipy<1.14.0,>=1.7.0 in /usr/local/lib/python3.12/dist-packages (from gensim) (1.13.1)\n",
            "Requirement already satisfied: smart-open>=1.8.1 in /usr/local/lib/python3.12/dist-packages (from gensim) (7.3.1)\n",
            "Requirement already satisfied: wrapt in /usr/local/lib/python3.12/dist-packages (from smart-open>=1.8.1->gensim) (1.17.3)\n"
          ]
        }
      ]
    },
    {
      "cell_type": "code",
      "source": [
        "import matplotlib.pyplot as plt\n",
        "import numpy as np\n",
        "from gensim.models.coherencemodel import CoherenceModel\n",
        "from gensim.models.ldamodel import LdaModel\n",
        "from gensim.corpora.dictionary import Dictionary\n",
        "\n",
        "# --- Data Preparation ---\n",
        "tokenized_texts = [text.split() for text in df_sample['CleanedText'].tolist()]\n",
        "dictionary = Dictionary(tokenized_texts)\n",
        "dictionary.filter_extremes(no_below=5, no_above=0.5)\n",
        "corpus = [dictionary.doc2bow(text) for text in tokenized_texts]\n",
        "\n",
        "# --- Metrics Calculation Function ---\n",
        "def compute_metrics(dic, corp, texts, limit, step):\n",
        "    coherence = []\n",
        "    perplexity = []\n",
        "    for num_topics in range(2, limit, step):\n",
        "        model = LdaModel(corpus=corp, id2word=dic, num_topics=num_topics, random_state=42, passes=5)\n",
        "        coherence.append(CoherenceModel(model=model, texts=texts, dictionary=dic, coherence='c_v').get_coherence())\n",
        "        perplexity.append(model.log_perplexity(corp))\n",
        "    return coherence, perplexity\n",
        "\n",
        "# --- Run Analysis ---\n",
        "limit = 12\n",
        "step = 3\n",
        "coherence_scores, perplexity_scores = compute_metrics(\n",
        "    dictionary, corpus, tokenized_texts, limit, step\n",
        ")\n",
        "\n",
        "x = range(2, limit, step)\n",
        "optimal_topics_coherence = x[np.argmax(coherence_scores)]\n",
        "\n",
        "# --- Plot Results (Coherence & Log Likelihood) ---\n",
        "plt.figure(figsize=(14, 5))\n",
        "\n",
        "plt.subplot(1, 2, 1)\n",
        "plt.plot(x, coherence_scores, marker='o', color='blue')\n",
        "plt.axvline(x=optimal_topics_coherence, color='r', linestyle='--', label=f'Optimal N: {optimal_topics_coherence}')\n",
        "plt.xlabel(\"Number of Topics (N)\")\n",
        "plt.ylabel(\"Coherence Score ($C_v$)\")\n",
        "plt.title(\"Topic Coherence Score (Higher is Better)\")\n",
        "plt.legend()\n",
        "plt.grid(True, alpha=0.5)\n",
        "\n",
        "plt.subplot(1, 2, 2)\n",
        "plt.plot(x, perplexity_scores, marker='o', color='green')\n",
        "plt.xlabel(\"Number of Topics (N)\")\n",
        "plt.ylabel(\"Perplexity (Log Likelihood)\")\n",
        "plt.title(\"Perplexity/Log Likelihood (Lower is Better)\")\n",
        "plt.grid(True, alpha=0.5)\n",
        "\n",
        "plt.tight_layout()\n",
        "plt.show()\n",
        "\n",
        "print(f\"\\nAnalysis complete. Optimal N based on Coherence is N={optimal_topics_coherence}.\")\n",
        "print(f\"Coherence Scores: {coherence_scores}\")\n",
        "print(f\"Perplexity (Log Likelihood) Scores: {perplexity_scores}\")"
      ],
      "metadata": {
        "colab": {
          "base_uri": "https://localhost:8080/",
          "height": 569
        },
        "id": "59T-JbcQrz5K",
        "outputId": "de5e6a89-f088-4c9e-db16-b13b84ff71ce"
      },
      "execution_count": null,
      "outputs": [
        {
          "output_type": "display_data",
          "data": {
            "text/plain": [
              "<Figure size 1400x500 with 2 Axes>"
            ],
            "image/png": "[encoded data removed]"
          },
          "metadata": {}
        },
        {
          "output_type": "stream",
          "name": "stdout",
          "text": [
            "\n",
            "Analysis complete. Optimal N based on Coherence is N=11.\n",
            "Coherence Scores: [0.3360888703679966, 0.42093553881658224, 0.4416933423922453, 0.4731767112262522]\n",
            "Perplexity (Log Likelihood) Scores: [-7.555388887573104, -7.484634726852743, -7.573304522650621, -7.907285413328229]\n"
          ]
        }
      ]
    },
    {
      "cell_type": "code",
      "source": [
        "import numpy as np\n",
        "import pandas as pd\n",
        "from sklearn.model_selection import train_test_split\n",
        "from sklearn.linear_model import LogisticRegression\n",
        "#we trained the model to be unbaised by balancing them but when the real dataset contains huge difference\n",
        "#first identifying Positive reviews, and then using a second model to split the remaining reviews into Negative and Neutral.\n",
        "\n",
        "df_sample['Predicted_Sentiment'] = model_binary.predict(X_tfidf)\n",
        "\n",
        "df_not_positive = df_sample[df_sample['Score'] <= 3].copy()\n",
        "df_not_positive['Negative_vs_Neutral'] = df_not_positive['Score'].apply(lambda score: 0 if score <= 2 else 1)\n",
        "y_cascading_2 = df_not_positive['Negative_vs_Neutral']\n",
        "\n",
        "X_tfidf_cascading_2 = X_tfidf[df_not_positive.index]\n",
        "\n",
        "X_train_c2, X_test_c2, y_train_c2, y_test_c2 = train_test_split(\n",
        "    X_tfidf_cascading_2, y_cascading_2, test_size=0.3, random_state=42, stratify=y_cascading_2\n",
        ")\n",
        "model_neg_vs_neut = LogisticRegression(solver='liblinear', random_state=42, max_iter=500)\n",
        "model_neg_vs_neut.fit(X_train_c2, y_train_c2)\n",
        "\n",
        "y_pred_model_2 = model_neg_vs_neut.predict(X_tfidf_cascading_2)\n",
        "df_not_positive['Predicted_Model_2'] = y_pred_model_2\n",
        "\n",
        "df_sample['Predicted_3_Class_Cascading'] = df_sample['Predicted_Sentiment']\n",
        "\n",
        "df_sample['Predicted_3_Class_Cascading'] = df_sample['Predicted_3_Class_Cascading'].replace({1: 2})\n",
        "\n",
        "df_sample.loc[df_sample['Predicted_Sentiment'] == 0, 'Predicted_3_Class_Cascading'] = (\n",
        "    df_not_positive.loc[df_not_positive.index, 'Predicted_Model_2']\n",
        ")\n",
        "\n",
        "def map_final_cascade(score):\n",
        "    if score == 2:\n",
        "        return \"Positive\"\n",
        "    elif score == 1:\n",
        "        return \"Neutral\"\n",
        "    else:\n",
        "        return \"Negative\"\n",
        "\n",
        "df_sample['Sentiment_Label_3_Class'] = df_sample['Predicted_3_Class_Cascading'].apply(map_final_cascade)\n",
        "\n",
        "print(\"High-Accuracy 3-Class Sentiment Detection Complete.\")\n",
        "print(\"Sentiment Distribution:\")\n",
        "print(df_sample['Sentiment_Label_3_Class'].value_counts().to_string())"
      ],
      "metadata": {
        "colab": {
          "base_uri": "https://localhost:8080/"
        },
        "id": "cecVcNwV9nbo",
        "outputId": "8db6c509-60e5-4ead-df2c-e2fce7584ea5"
      },
      "execution_count": null,
      "outputs": [
        {
          "output_type": "stream",
          "name": "stdout",
          "text": [
            "Final High-Accuracy 3-Class Sentiment Detection Complete.\n",
            "Final Sentiment Distribution:\n",
            "Sentiment_Label_3_Class\n",
            "Negative    55682\n",
            "Positive    38332\n",
            "Neutral      9996\n"
          ]
        }
      ]
    }
  ]
}